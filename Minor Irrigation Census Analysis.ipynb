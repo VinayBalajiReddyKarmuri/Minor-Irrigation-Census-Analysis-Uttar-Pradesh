{
 "cells": [
  {
   "cell_type": "markdown",
   "id": "6f992b6d-f820-4e1e-803f-7c7681817d2c",
   "metadata": {},
   "source": [
    "## Minor Irrigation Census - Village Schedule - Uttar Pradesh"
   ]
  },
  {
   "cell_type": "markdown",
   "id": "6cadee0c-56bc-406f-9acb-df7a6f3a3ad6",
   "metadata": {},
   "source": [
    "## DESCRIPTION\n",
    "\n",
    "This large-scale irrigation and groundwater analysis project represents a significant achievement in utilizing Apache Spark for processing and analyzing the Minor Irrigation Census data of Uttar Pradesh. The project showcases how modern big data frameworks can transform conventional irrigation and agricultural assessments into a scalable, insightful, and data-driven analytical system.\n",
    "\n",
    "By integrating distributed computing principles with comprehensive data cleaning, transformation, and visualization, this project successfully establishes a robust foundation for sustainable water resource planning and agricultural policy formulation. It stands as a practical demonstration of how big data analytics can be harnessed to drive environmental sustainability and rural development at scale."
   ]
  },
  {
   "cell_type": "markdown",
   "id": "190c1cc1-a35c-46ff-a8fe-7d18846fa8d9",
   "metadata": {},
   "source": [
    "### Step 1: Load the dataset"
   ]
  },
  {
   "cell_type": "code",
   "execution_count": 62,
   "id": "9a88155b-f73d-426d-b144-fa842a18e4ac",
   "metadata": {},
   "outputs": [
    {
     "name": "stdout",
     "output_type": "stream",
     "text": [
      "root\n",
      " |-- state_name: string (nullable = true)\n",
      " |-- district_name: string (nullable = true)\n",
      " |-- block_tehsil_name: string (nullable = true)\n",
      " |-- village_name: string (nullable = true)\n",
      " |-- ref_village_type_name: string (nullable = true)\n",
      " |-- major_medium_scheme: string (nullable = true)\n",
      " |-- major_medium_scheme_name: string (nullable = true)\n",
      " |-- geographical_area: integer (nullable = true)\n",
      " |-- cultivable_area: integer (nullable = true)\n",
      " |-- net_sown_area: integer (nullable = true)\n",
      " |-- gross_irrigated_area_kharif_season: integer (nullable = true)\n",
      " |-- gross_irrigated_area_rabi_season: integer (nullable = true)\n",
      " |-- gross_irrigated_area_perennial_season: integer (nullable = true)\n",
      " |-- gross_irrigated_area_other_season: integer (nullable = true)\n",
      " |-- gross_irrigated_area_total: integer (nullable = true)\n",
      " |-- net_irrigated_area: integer (nullable = true)\n",
      " |-- avg_ground_water_level_pre_monsoon: integer (nullable = true)\n",
      " |-- avg_ground_water_level_post_monsoon: integer (nullable = true)\n",
      " |-- ref_selection_wua_exists_name: string (nullable = true)\n",
      "\n"
     ]
    }
   ],
   "source": [
    "from pyspark.sql import SparkSession\n",
    "\n",
    "# Start Spark session\n",
    "spark = SparkSession.builder \\\n",
    "    .appName(\"DataAnalyticsProject\") \\\n",
    "    .getOrCreate()\n",
    "\n",
    "# Load the dataset\n",
    "file_path = \"dataset.csv\"  # update if needed\n",
    "df = spark.read.option(\"header\", True).option(\"inferSchema\", True).csv(file_path)\n",
    "\n",
    "# Show basic info\n",
    "df.printSchema()"
   ]
  },
  {
   "cell_type": "code",
   "execution_count": 7,
   "id": "63e5b78f-e318-4d4b-89fe-d731b0bc3dba",
   "metadata": {},
   "outputs": [
    {
     "data": {
      "text/html": [
       "<div>\n",
       "<style scoped>\n",
       "    .dataframe tbody tr th:only-of-type {\n",
       "        vertical-align: middle;\n",
       "    }\n",
       "\n",
       "    .dataframe tbody tr th {\n",
       "        vertical-align: top;\n",
       "    }\n",
       "\n",
       "    .dataframe thead th {\n",
       "        text-align: right;\n",
       "    }\n",
       "</style>\n",
       "<table border=\"1\" class=\"dataframe\">\n",
       "  <thead>\n",
       "    <tr style=\"text-align: right;\">\n",
       "      <th></th>\n",
       "      <th>state_name</th>\n",
       "      <th>district_name</th>\n",
       "      <th>block_tehsil_name</th>\n",
       "      <th>village_name</th>\n",
       "      <th>ref_village_type_name</th>\n",
       "      <th>major_medium_scheme</th>\n",
       "      <th>major_medium_scheme_name</th>\n",
       "      <th>geographical_area</th>\n",
       "      <th>cultivable_area</th>\n",
       "      <th>net_sown_area</th>\n",
       "      <th>gross_irrigated_area_kharif_season</th>\n",
       "      <th>gross_irrigated_area_rabi_season</th>\n",
       "      <th>gross_irrigated_area_perennial_season</th>\n",
       "      <th>gross_irrigated_area_other_season</th>\n",
       "      <th>gross_irrigated_area_total</th>\n",
       "      <th>net_irrigated_area</th>\n",
       "      <th>avg_ground_water_level_pre_monsoon</th>\n",
       "      <th>avg_ground_water_level_post_monsoon</th>\n",
       "      <th>ref_selection_wua_exists_name</th>\n",
       "    </tr>\n",
       "  </thead>\n",
       "  <tbody>\n",
       "    <tr>\n",
       "      <th>0</th>\n",
       "      <td>UTTAR PRADESH</td>\n",
       "      <td>SAHARANPUR</td>\n",
       "      <td>SADAULI QADEEM</td>\n",
       "      <td>RAHNA</td>\n",
       "      <td>Non-Tribal</td>\n",
       "      <td>No</td>\n",
       "      <td>NA</td>\n",
       "      <td>114</td>\n",
       "      <td>28</td>\n",
       "      <td>21</td>\n",
       "      <td>5</td>\n",
       "      <td>5</td>\n",
       "      <td>4</td>\n",
       "      <td>7</td>\n",
       "      <td>21</td>\n",
       "      <td>21</td>\n",
       "      <td>43</td>\n",
       "      <td>45</td>\n",
       "      <td>No</td>\n",
       "    </tr>\n",
       "    <tr>\n",
       "      <th>1</th>\n",
       "      <td>UTTAR PRADESH</td>\n",
       "      <td>AZAMGARH</td>\n",
       "      <td>AZAMATGARH</td>\n",
       "      <td>RUSTAMPUR</td>\n",
       "      <td>Non-Tribal</td>\n",
       "      <td>No</td>\n",
       "      <td>NA</td>\n",
       "      <td>51</td>\n",
       "      <td>48</td>\n",
       "      <td>40</td>\n",
       "      <td>20</td>\n",
       "      <td>15</td>\n",
       "      <td>7</td>\n",
       "      <td>2</td>\n",
       "      <td>44</td>\n",
       "      <td>30</td>\n",
       "      <td>7</td>\n",
       "      <td>3</td>\n",
       "      <td>Not Known</td>\n",
       "    </tr>\n",
       "    <tr>\n",
       "      <th>2</th>\n",
       "      <td>UTTAR PRADESH</td>\n",
       "      <td>ETAWAH</td>\n",
       "      <td>BADHAPURA</td>\n",
       "      <td>GATI</td>\n",
       "      <td>Non-Tribal</td>\n",
       "      <td>No</td>\n",
       "      <td>NA</td>\n",
       "      <td>460</td>\n",
       "      <td>210</td>\n",
       "      <td>210</td>\n",
       "      <td>160</td>\n",
       "      <td>160</td>\n",
       "      <td>0</td>\n",
       "      <td>0</td>\n",
       "      <td>320</td>\n",
       "      <td>210</td>\n",
       "      <td>10</td>\n",
       "      <td>5</td>\n",
       "      <td>Not Known</td>\n",
       "    </tr>\n",
       "    <tr>\n",
       "      <th>3</th>\n",
       "      <td>UTTAR PRADESH</td>\n",
       "      <td>AZAMGARH</td>\n",
       "      <td>AZAMATGARH</td>\n",
       "      <td>UDKA</td>\n",
       "      <td>Non-Tribal</td>\n",
       "      <td>No</td>\n",
       "      <td>NA</td>\n",
       "      <td>83</td>\n",
       "      <td>80</td>\n",
       "      <td>70</td>\n",
       "      <td>35</td>\n",
       "      <td>30</td>\n",
       "      <td>2</td>\n",
       "      <td>3</td>\n",
       "      <td>70</td>\n",
       "      <td>70</td>\n",
       "      <td>3</td>\n",
       "      <td>7</td>\n",
       "      <td>Not Known</td>\n",
       "    </tr>\n",
       "    <tr>\n",
       "      <th>4</th>\n",
       "      <td>UTTAR PRADESH</td>\n",
       "      <td>GHAZIPUR</td>\n",
       "      <td>MOHMMADABAD</td>\n",
       "      <td>CHAK RAHMATALI</td>\n",
       "      <td>Non-Tribal</td>\n",
       "      <td>No</td>\n",
       "      <td>NA</td>\n",
       "      <td>3</td>\n",
       "      <td>0</td>\n",
       "      <td>0</td>\n",
       "      <td>0</td>\n",
       "      <td>0</td>\n",
       "      <td>0</td>\n",
       "      <td>0</td>\n",
       "      <td>0</td>\n",
       "      <td>0</td>\n",
       "      <td>4</td>\n",
       "      <td>4</td>\n",
       "      <td>Not Known</td>\n",
       "    </tr>\n",
       "    <tr>\n",
       "      <th>5</th>\n",
       "      <td>UTTAR PRADESH</td>\n",
       "      <td>GHAZIPUR</td>\n",
       "      <td>MOHMMADABAD</td>\n",
       "      <td>CHAK HABIBULLAH URF BHAGWANPAH</td>\n",
       "      <td>Non-Tribal</td>\n",
       "      <td>No</td>\n",
       "      <td>NA</td>\n",
       "      <td>3</td>\n",
       "      <td>0</td>\n",
       "      <td>0</td>\n",
       "      <td>0</td>\n",
       "      <td>0</td>\n",
       "      <td>0</td>\n",
       "      <td>0</td>\n",
       "      <td>0</td>\n",
       "      <td>0</td>\n",
       "      <td>3</td>\n",
       "      <td>4</td>\n",
       "      <td>Not Known</td>\n",
       "    </tr>\n",
       "    <tr>\n",
       "      <th>6</th>\n",
       "      <td>UTTAR PRADESH</td>\n",
       "      <td>ETAWAH</td>\n",
       "      <td>BADHAPURA</td>\n",
       "      <td>KAMETH</td>\n",
       "      <td>Non-Tribal</td>\n",
       "      <td>No</td>\n",
       "      <td>NA</td>\n",
       "      <td>1195</td>\n",
       "      <td>425</td>\n",
       "      <td>420</td>\n",
       "      <td>185</td>\n",
       "      <td>250</td>\n",
       "      <td>0</td>\n",
       "      <td>0</td>\n",
       "      <td>435</td>\n",
       "      <td>420</td>\n",
       "      <td>43</td>\n",
       "      <td>45</td>\n",
       "      <td>No</td>\n",
       "    </tr>\n",
       "    <tr>\n",
       "      <th>7</th>\n",
       "      <td>UTTAR PRADESH</td>\n",
       "      <td>ETAWAH</td>\n",
       "      <td>BADHAPURA</td>\n",
       "      <td>BHAGAUTIPUR NAGLA KACHHAR</td>\n",
       "      <td>Non-Tribal</td>\n",
       "      <td>No</td>\n",
       "      <td>NA</td>\n",
       "      <td>287</td>\n",
       "      <td>142</td>\n",
       "      <td>140</td>\n",
       "      <td>49</td>\n",
       "      <td>132</td>\n",
       "      <td>0</td>\n",
       "      <td>0</td>\n",
       "      <td>181</td>\n",
       "      <td>140</td>\n",
       "      <td>24</td>\n",
       "      <td>21</td>\n",
       "      <td>Not Known</td>\n",
       "    </tr>\n",
       "    <tr>\n",
       "      <th>8</th>\n",
       "      <td>UTTAR PRADESH</td>\n",
       "      <td>GHAZIPUR</td>\n",
       "      <td>MOHMMADABAD</td>\n",
       "      <td>PARSA</td>\n",
       "      <td>Non-Tribal</td>\n",
       "      <td>No</td>\n",
       "      <td>NA</td>\n",
       "      <td>396</td>\n",
       "      <td>150</td>\n",
       "      <td>150</td>\n",
       "      <td>50</td>\n",
       "      <td>40</td>\n",
       "      <td>20</td>\n",
       "      <td>40</td>\n",
       "      <td>150</td>\n",
       "      <td>150</td>\n",
       "      <td>3</td>\n",
       "      <td>4</td>\n",
       "      <td>Not Known</td>\n",
       "    </tr>\n",
       "    <tr>\n",
       "      <th>9</th>\n",
       "      <td>UTTAR PRADESH</td>\n",
       "      <td>AZAMGARH</td>\n",
       "      <td>AZAMATGARH</td>\n",
       "      <td>DAHEER PATTI</td>\n",
       "      <td>Non-Tribal</td>\n",
       "      <td>No</td>\n",
       "      <td>NA</td>\n",
       "      <td>20</td>\n",
       "      <td>19</td>\n",
       "      <td>16</td>\n",
       "      <td>4</td>\n",
       "      <td>4</td>\n",
       "      <td>0</td>\n",
       "      <td>0</td>\n",
       "      <td>8</td>\n",
       "      <td>8</td>\n",
       "      <td>4</td>\n",
       "      <td>3</td>\n",
       "      <td>Not Known</td>\n",
       "    </tr>\n",
       "  </tbody>\n",
       "</table>\n",
       "</div>"
      ],
      "text/plain": [
       "      state_name district_name block_tehsil_name                    village_name ref_village_type_name major_medium_scheme major_medium_scheme_name  geographical_area  cultivable_area  net_sown_area  gross_irrigated_area_kharif_season  gross_irrigated_area_rabi_season  gross_irrigated_area_perennial_season  gross_irrigated_area_other_season  gross_irrigated_area_total  net_irrigated_area  avg_ground_water_level_pre_monsoon  avg_ground_water_level_post_monsoon ref_selection_wua_exists_name\n",
       "0  UTTAR PRADESH    SAHARANPUR    SADAULI QADEEM                           RAHNA            Non-Tribal                  No                       NA                114               28             21                                   5                                 5                                      4                                  7                          21                  21                                  43                                   45                            No\n",
       "1  UTTAR PRADESH      AZAMGARH        AZAMATGARH                       RUSTAMPUR            Non-Tribal                  No                       NA                 51               48             40                                  20                                15                                      7                                  2                          44                  30                                   7                                    3                     Not Known\n",
       "2  UTTAR PRADESH        ETAWAH         BADHAPURA                            GATI            Non-Tribal                  No                       NA                460              210            210                                 160                               160                                      0                                  0                         320                 210                                  10                                    5                     Not Known\n",
       "3  UTTAR PRADESH      AZAMGARH        AZAMATGARH                            UDKA            Non-Tribal                  No                       NA                 83               80             70                                  35                                30                                      2                                  3                          70                  70                                   3                                    7                     Not Known\n",
       "4  UTTAR PRADESH      GHAZIPUR       MOHMMADABAD                  CHAK RAHMATALI            Non-Tribal                  No                       NA                  3                0              0                                   0                                 0                                      0                                  0                           0                   0                                   4                                    4                     Not Known\n",
       "5  UTTAR PRADESH      GHAZIPUR       MOHMMADABAD  CHAK HABIBULLAH URF BHAGWANPAH            Non-Tribal                  No                       NA                  3                0              0                                   0                                 0                                      0                                  0                           0                   0                                   3                                    4                     Not Known\n",
       "6  UTTAR PRADESH        ETAWAH         BADHAPURA                          KAMETH            Non-Tribal                  No                       NA               1195              425            420                                 185                               250                                      0                                  0                         435                 420                                  43                                   45                            No\n",
       "7  UTTAR PRADESH        ETAWAH         BADHAPURA       BHAGAUTIPUR NAGLA KACHHAR            Non-Tribal                  No                       NA                287              142            140                                  49                               132                                      0                                  0                         181                 140                                  24                                   21                     Not Known\n",
       "8  UTTAR PRADESH      GHAZIPUR       MOHMMADABAD                           PARSA            Non-Tribal                  No                       NA                396              150            150                                  50                                40                                     20                                 40                         150                 150                                   3                                    4                     Not Known\n",
       "9  UTTAR PRADESH      AZAMGARH        AZAMATGARH                    DAHEER PATTI            Non-Tribal                  No                       NA                 20               19             16                                   4                                 4                                      0                                  0                           8                   8                                   4                                    3                     Not Known"
      ]
     },
     "execution_count": 7,
     "metadata": {},
     "output_type": "execute_result"
    }
   ],
   "source": [
    "pdf = df.limit(50).toPandas()  \n",
    "import pandas as pd\n",
    "pd.set_option('display.max_colwidth', None)\n",
    "pd.set_option('display.max_columns', None)   #For better readability, I have chosen Pandas.\"\n",
    "pd.set_option('display.width', 2000)\n",
    "pdf.head(10)\n"
   ]
  },
  {
   "cell_type": "code",
   "execution_count": 8,
   "id": "72f0781e-bba4-4720-931d-a554016d2f11",
   "metadata": {},
   "outputs": [
    {
     "name": "stdout",
     "output_type": "stream",
     "text": [
      "Total rows: 12938\n",
      "Total columns: 19\n"
     ]
    }
   ],
   "source": [
    "print(f\"Total rows: {df.count()}\")\n",
    "print(f\"Total columns: {len(df.columns)}\")\n",
    "    "
   ]
  },
  {
   "cell_type": "code",
   "execution_count": 9,
   "id": "51037f39-5caf-425d-86a4-0dfb0fc9f7ff",
   "metadata": {},
   "outputs": [
    {
     "data": {
      "text/plain": [
       "['state_name',\n",
       " 'district_name',\n",
       " 'block_tehsil_name',\n",
       " 'village_name',\n",
       " 'ref_village_type_name',\n",
       " 'major_medium_scheme',\n",
       " 'major_medium_scheme_name',\n",
       " 'geographical_area',\n",
       " 'cultivable_area',\n",
       " 'net_sown_area',\n",
       " 'gross_irrigated_area_kharif_season',\n",
       " 'gross_irrigated_area_rabi_season',\n",
       " 'gross_irrigated_area_perennial_season',\n",
       " 'gross_irrigated_area_other_season',\n",
       " 'gross_irrigated_area_total',\n",
       " 'net_irrigated_area',\n",
       " 'avg_ground_water_level_pre_monsoon',\n",
       " 'avg_ground_water_level_post_monsoon',\n",
       " 'ref_selection_wua_exists_name']"
      ]
     },
     "execution_count": 9,
     "metadata": {},
     "output_type": "execute_result"
    }
   ],
   "source": [
    "df.columns\n"
   ]
  },
  {
   "cell_type": "code",
   "execution_count": 13,
   "id": "398e8f00-9f50-4dac-9c6c-b4eece963c44",
   "metadata": {},
   "outputs": [
    {
     "data": {
      "text/html": [
       "<div>\n",
       "<style scoped>\n",
       "    .dataframe tbody tr th:only-of-type {\n",
       "        vertical-align: middle;\n",
       "    }\n",
       "\n",
       "    .dataframe tbody tr th {\n",
       "        vertical-align: top;\n",
       "    }\n",
       "\n",
       "    .dataframe thead th {\n",
       "        text-align: right;\n",
       "    }\n",
       "</style>\n",
       "<table border=\"1\" class=\"dataframe\">\n",
       "  <thead>\n",
       "    <tr style=\"text-align: right;\">\n",
       "      <th></th>\n",
       "      <th>summary</th>\n",
       "      <th>geographical_area</th>\n",
       "      <th>cultivable_area</th>\n",
       "      <th>net_sown_area</th>\n",
       "      <th>net_irrigated_area</th>\n",
       "      <th>avg_ground_water_level_pre_monsoon</th>\n",
       "      <th>avg_ground_water_level_post_monsoon</th>\n",
       "    </tr>\n",
       "  </thead>\n",
       "  <tbody>\n",
       "    <tr>\n",
       "      <th>0</th>\n",
       "      <td>count</td>\n",
       "      <td>12938</td>\n",
       "      <td>12938</td>\n",
       "      <td>12938</td>\n",
       "      <td>12938</td>\n",
       "      <td>12938</td>\n",
       "      <td>12938</td>\n",
       "    </tr>\n",
       "    <tr>\n",
       "      <th>1</th>\n",
       "      <td>mean</td>\n",
       "      <td>195.90609058587108</td>\n",
       "      <td>148.02550626062762</td>\n",
       "      <td>135.65010047920853</td>\n",
       "      <td>125.12668109445046</td>\n",
       "      <td>10.599860874942031</td>\n",
       "      <td>11.723295718039882</td>\n",
       "    </tr>\n",
       "    <tr>\n",
       "      <th>2</th>\n",
       "      <td>stddev</td>\n",
       "      <td>334.81547007697276</td>\n",
       "      <td>219.9277235135069</td>\n",
       "      <td>207.2385573799057</td>\n",
       "      <td>162.04880979443323</td>\n",
       "      <td>27.209253401116406</td>\n",
       "      <td>21.76164277547627</td>\n",
       "    </tr>\n",
       "    <tr>\n",
       "      <th>3</th>\n",
       "      <td>min</td>\n",
       "      <td>1</td>\n",
       "      <td>0</td>\n",
       "      <td>0</td>\n",
       "      <td>0</td>\n",
       "      <td>1</td>\n",
       "      <td>1</td>\n",
       "    </tr>\n",
       "    <tr>\n",
       "      <th>4</th>\n",
       "      <td>max</td>\n",
       "      <td>16417</td>\n",
       "      <td>12170</td>\n",
       "      <td>12170</td>\n",
       "      <td>4150</td>\n",
       "      <td>750</td>\n",
       "      <td>950</td>\n",
       "    </tr>\n",
       "  </tbody>\n",
       "</table>\n",
       "</div>"
      ],
      "text/plain": [
       "  summary   geographical_area     cultivable_area       net_sown_area  net_irrigated_area avg_ground_water_level_pre_monsoon avg_ground_water_level_post_monsoon\n",
       "0   count               12938               12938               12938               12938                              12938                               12938\n",
       "1    mean  195.90609058587108  148.02550626062762  135.65010047920853  125.12668109445046                 10.599860874942031                  11.723295718039882\n",
       "2  stddev  334.81547007697276   219.9277235135069   207.2385573799057  162.04880979443323                 27.209253401116406                   21.76164277547627\n",
       "3     min                   1                   0                   0                   0                                  1                                   1\n",
       "4     max               16417               12170               12170                4150                                750                                 950"
      ]
     },
     "execution_count": 13,
     "metadata": {},
     "output_type": "execute_result"
    }
   ],
   "source": [
    "# Get describe result as a Spark DataFrame\n",
    "summary_df = df.describe(\n",
    "    \"geographical_area\",\n",
    "    \"cultivable_area\",\n",
    "    \"net_sown_area\",\n",
    "    \"net_irrigated_area\",\n",
    "    \"avg_ground_water_level_pre_monsoon\",\n",
    "    \"avg_ground_water_level_post_monsoon\"\n",
    ")\n",
    "\n",
    "# Convert to Pandas for nice display\n",
    "summary_pdf = summary_df.toPandas()\n",
    "\n",
    "import pandas as pd\n",
    "pd.set_option('display.max_colwidth', None)\n",
    "pd.set_option('display.max_columns', None)\n",
    "pd.set_option('display.width', 2000)\n",
    "\n",
    "summary_pdf\n"
   ]
  },
  {
   "cell_type": "markdown",
   "id": "73b83f4f-f3bf-4d4f-951f-a9e29729d91a",
   "metadata": {},
   "source": [
    "### Displaying Null values"
   ]
  },
  {
   "cell_type": "code",
   "execution_count": 18,
   "id": "46a5e43d-63eb-4f76-8128-be240fcec84e",
   "metadata": {},
   "outputs": [],
   "source": [
    "from pyspark.sql.functions import when, col\n",
    "\n",
    "# Replace string \"NA\", \"Not Known\", etc. with None (null)\n",
    "df_clean = df.select([\n",
    "    when(col(c).isin(\"NA\", \"Not Known\", \"Unknown\", \"\"), None)\n",
    "    .otherwise(col(c))\n",
    "    .alias(c)\n",
    "    for c in df.columns\n",
    "])\n"
   ]
  },
  {
   "cell_type": "code",
   "execution_count": 22,
   "id": "804e564e-096b-4055-af9e-c1b25c9e3ee1",
   "metadata": {},
   "outputs": [
    {
     "name": "stdout",
     "output_type": "stream",
     "text": [
      "                                   column  null_count\n",
      "0                              state_name           0\n",
      "1                           district_name           0\n",
      "2                       block_tehsil_name           0\n",
      "3                            village_name           0\n",
      "4                   ref_village_type_name           0\n",
      "5                     major_medium_scheme           0\n",
      "6                major_medium_scheme_name       12720\n",
      "7                       geographical_area           0\n",
      "8                         cultivable_area           0\n",
      "9                           net_sown_area           0\n",
      "10     gross_irrigated_area_kharif_season           0\n",
      "11       gross_irrigated_area_rabi_season           0\n",
      "12  gross_irrigated_area_perennial_season           0\n",
      "13      gross_irrigated_area_other_season           0\n",
      "14             gross_irrigated_area_total           0\n",
      "15                     net_irrigated_area           0\n",
      "16     avg_ground_water_level_pre_monsoon           0\n",
      "17    avg_ground_water_level_post_monsoon           0\n",
      "18          ref_selection_wua_exists_name        5581\n"
     ]
    }
   ],
   "source": [
    "# Convert PySpark DataFrame to Pandas\n",
    "df_pd = df_clean.toPandas()\n",
    "\n",
    "# Count nulls per column\n",
    "nulls_pd = df_pd.isnull().sum().reset_index()\n",
    "nulls_pd.columns = [\"column\", \"null_count\"]\n",
    "\n",
    "# Display\n",
    "print(nulls_pd)\n"
   ]
  },
  {
   "cell_type": "code",
   "execution_count": 26,
   "id": "0ecf4fda-b6c9-4c85-a8fd-7ac45198d910",
   "metadata": {},
   "outputs": [],
   "source": [
    "from pyspark.sql.functions import mean\n",
    "\n",
    "# Example: fill missing groundwater levels with mean\n",
    "gw_cols = [\"avg_ground_water_level_pre_monsoon\", \"avg_ground_water_level_post_monsoon\"]\n",
    "for c in gw_cols:\n",
    "    mean_val = df_clean.select(mean(col(c))).collect()[0][0]\n",
    "    df_clean = df_clean.fillna({c: mean_val})\n"
   ]
  },
  {
   "cell_type": "markdown",
   "id": "5f62216c-d6c8-46ed-8ea9-3e1df0201b4d",
   "metadata": {},
   "source": [
    "### Step 2: Handling Missing values"
   ]
  },
  {
   "cell_type": "code",
   "execution_count": 59,
   "id": "f1e94f8d-ae0e-49d1-a69c-e5ec38db98ae",
   "metadata": {},
   "outputs": [],
   "source": [
    "from pyspark.sql.functions import col, sum as _sum\n",
    "\n",
    "# 1. Handle missing values (example: fill numeric columns with mean)\n",
    "numeric_cols = [\n",
    "    \"geographical_area\", \"cultivable_area\", \"net_sown_area\",\n",
    "    \"gross_irrigated_area_kharif_season\", \"gross_irrigated_area_rabi_season\",\n",
    "    \"gross_irrigated_area_perennial_season\", \"gross_irrigated_area_other_season\",\n",
    "    \"gross_irrigated_area_total\", \"net_irrigated_area\",\n",
    "    \"avg_ground_water_level_pre_monsoon\", \"avg_ground_water_level_post_monsoon\"\n",
    "]\n",
    "\n",
    "for c in numeric_cols:\n",
    "    mean_val = df_clean.select(col(c)).na.drop().agg({c: \"mean\"}).collect()[0][0]\n",
    "    df_clean = df_clean.fillna({c: mean_val})\n",
    "\n",
    "# 2. Drop rows with remaining nulls in non-numeric columns (if any)\n",
    "df_clean = df_clean.dropna()\n",
    "\n",
    "\n"
   ]
  },
  {
   "cell_type": "code",
   "execution_count": 36,
   "id": "5d3253d2-f257-4e34-8e22-86582edc7975",
   "metadata": {},
   "outputs": [
    {
     "name": "stdout",
     "output_type": "stream",
     "text": [
      "Null values after cleaning:\n",
      "                                   column  null_count\n",
      "0                              state_name           0\n",
      "1                           district_name           0\n",
      "2                       block_tehsil_name           0\n",
      "3                            village_name           0\n",
      "4                   ref_village_type_name           0\n",
      "5                     major_medium_scheme           0\n",
      "6                major_medium_scheme_name           0\n",
      "7                       geographical_area           0\n",
      "8                         cultivable_area           0\n",
      "9                           net_sown_area           0\n",
      "10     gross_irrigated_area_kharif_season           0\n",
      "11       gross_irrigated_area_rabi_season           0\n",
      "12  gross_irrigated_area_perennial_season           0\n",
      "13      gross_irrigated_area_other_season           0\n",
      "14             gross_irrigated_area_total           0\n",
      "15                     net_irrigated_area           0\n",
      "16     avg_ground_water_level_pre_monsoon           0\n",
      "17    avg_ground_water_level_post_monsoon           0\n",
      "18          ref_selection_wua_exists_name           0\n"
     ]
    }
   ],
   "source": [
    "# 1. Convert the cleaned PySpark DataFrame to Pandas\n",
    "df_pd_clean = df_clean.toPandas()\n",
    "\n",
    "# 2. Confirm there are no nulls\n",
    "nulls_pd = df_pd_clean.isnull().sum().reset_index()\n",
    "nulls_pd.columns = [\"column\", \"null_count\"]\n",
    "print(\"Null values after cleaning:\")\n",
    "print(nulls_pd)\n",
    "\n"
   ]
  },
  {
   "cell_type": "code",
   "execution_count": 27,
   "id": "63f2c716-75c5-43cc-8e1f-bfd32ba22cd8",
   "metadata": {},
   "outputs": [
    {
     "data": {
      "text/html": [
       "<div>\n",
       "<style scoped>\n",
       "    .dataframe tbody tr th:only-of-type {\n",
       "        vertical-align: middle;\n",
       "    }\n",
       "\n",
       "    .dataframe tbody tr th {\n",
       "        vertical-align: top;\n",
       "    }\n",
       "\n",
       "    .dataframe thead th {\n",
       "        text-align: right;\n",
       "    }\n",
       "</style>\n",
       "<table border=\"1\" class=\"dataframe\">\n",
       "  <thead>\n",
       "    <tr style=\"text-align: right;\">\n",
       "      <th></th>\n",
       "      <th>geographical_area</th>\n",
       "      <th>cultivable_area</th>\n",
       "      <th>net_sown_area</th>\n",
       "      <th>gross_irrigated_area_kharif_season</th>\n",
       "      <th>gross_irrigated_area_rabi_season</th>\n",
       "      <th>gross_irrigated_area_perennial_season</th>\n",
       "      <th>gross_irrigated_area_other_season</th>\n",
       "      <th>gross_irrigated_area_total</th>\n",
       "      <th>net_irrigated_area</th>\n",
       "      <th>avg_ground_water_level_pre_monsoon</th>\n",
       "      <th>avg_ground_water_level_post_monsoon</th>\n",
       "    </tr>\n",
       "  </thead>\n",
       "  <tbody>\n",
       "    <tr>\n",
       "      <th>count</th>\n",
       "      <td>12938.000000</td>\n",
       "      <td>12938.000000</td>\n",
       "      <td>12938.000000</td>\n",
       "      <td>12938.000000</td>\n",
       "      <td>12938.000000</td>\n",
       "      <td>12938.000000</td>\n",
       "      <td>12938.000000</td>\n",
       "      <td>12938.000000</td>\n",
       "      <td>12938.000000</td>\n",
       "      <td>12938.000000</td>\n",
       "      <td>12938.000000</td>\n",
       "    </tr>\n",
       "    <tr>\n",
       "      <th>mean</th>\n",
       "      <td>195.906091</td>\n",
       "      <td>148.025506</td>\n",
       "      <td>135.650100</td>\n",
       "      <td>62.356701</td>\n",
       "      <td>69.023497</td>\n",
       "      <td>18.215798</td>\n",
       "      <td>18.451693</td>\n",
       "      <td>168.047689</td>\n",
       "      <td>125.126681</td>\n",
       "      <td>10.599861</td>\n",
       "      <td>11.723296</td>\n",
       "    </tr>\n",
       "    <tr>\n",
       "      <th>std</th>\n",
       "      <td>334.815470</td>\n",
       "      <td>219.927724</td>\n",
       "      <td>207.238557</td>\n",
       "      <td>88.875398</td>\n",
       "      <td>101.613961</td>\n",
       "      <td>48.327840</td>\n",
       "      <td>37.164518</td>\n",
       "      <td>220.814428</td>\n",
       "      <td>162.048810</td>\n",
       "      <td>27.209253</td>\n",
       "      <td>21.761643</td>\n",
       "    </tr>\n",
       "    <tr>\n",
       "      <th>min</th>\n",
       "      <td>1.000000</td>\n",
       "      <td>0.000000</td>\n",
       "      <td>0.000000</td>\n",
       "      <td>0.000000</td>\n",
       "      <td>0.000000</td>\n",
       "      <td>0.000000</td>\n",
       "      <td>0.000000</td>\n",
       "      <td>0.000000</td>\n",
       "      <td>0.000000</td>\n",
       "      <td>1.000000</td>\n",
       "      <td>1.000000</td>\n",
       "    </tr>\n",
       "    <tr>\n",
       "      <th>25%</th>\n",
       "      <td>58.000000</td>\n",
       "      <td>44.000000</td>\n",
       "      <td>40.000000</td>\n",
       "      <td>15.000000</td>\n",
       "      <td>17.000000</td>\n",
       "      <td>0.000000</td>\n",
       "      <td>0.000000</td>\n",
       "      <td>43.000000</td>\n",
       "      <td>35.000000</td>\n",
       "      <td>3.000000</td>\n",
       "      <td>4.000000</td>\n",
       "    </tr>\n",
       "    <tr>\n",
       "      <th>50%</th>\n",
       "      <td>125.000000</td>\n",
       "      <td>98.000000</td>\n",
       "      <td>89.000000</td>\n",
       "      <td>39.000000</td>\n",
       "      <td>40.000000</td>\n",
       "      <td>2.000000</td>\n",
       "      <td>5.000000</td>\n",
       "      <td>100.000000</td>\n",
       "      <td>80.000000</td>\n",
       "      <td>6.000000</td>\n",
       "      <td>7.000000</td>\n",
       "    </tr>\n",
       "    <tr>\n",
       "      <th>75%</th>\n",
       "      <td>238.000000</td>\n",
       "      <td>190.000000</td>\n",
       "      <td>170.000000</td>\n",
       "      <td>80.000000</td>\n",
       "      <td>90.000000</td>\n",
       "      <td>12.000000</td>\n",
       "      <td>20.000000</td>\n",
       "      <td>210.000000</td>\n",
       "      <td>160.000000</td>\n",
       "      <td>12.000000</td>\n",
       "      <td>14.000000</td>\n",
       "    </tr>\n",
       "    <tr>\n",
       "      <th>max</th>\n",
       "      <td>16417.000000</td>\n",
       "      <td>12170.000000</td>\n",
       "      <td>12170.000000</td>\n",
       "      <td>2442.000000</td>\n",
       "      <td>2750.000000</td>\n",
       "      <td>746.000000</td>\n",
       "      <td>920.000000</td>\n",
       "      <td>4500.000000</td>\n",
       "      <td>4150.000000</td>\n",
       "      <td>750.000000</td>\n",
       "      <td>950.000000</td>\n",
       "    </tr>\n",
       "  </tbody>\n",
       "</table>\n",
       "</div>"
      ],
      "text/plain": [
       "       geographical_area  cultivable_area  net_sown_area  gross_irrigated_area_kharif_season  gross_irrigated_area_rabi_season  gross_irrigated_area_perennial_season  gross_irrigated_area_other_season  gross_irrigated_area_total  net_irrigated_area  avg_ground_water_level_pre_monsoon  avg_ground_water_level_post_monsoon\n",
       "count       12938.000000     12938.000000   12938.000000                        12938.000000                      12938.000000                           12938.000000                       12938.000000                12938.000000        12938.000000                        12938.000000                         12938.000000\n",
       "mean          195.906091       148.025506     135.650100                           62.356701                         69.023497                              18.215798                          18.451693                  168.047689          125.126681                           10.599861                            11.723296\n",
       "std           334.815470       219.927724     207.238557                           88.875398                        101.613961                              48.327840                          37.164518                  220.814428          162.048810                           27.209253                            21.761643\n",
       "min             1.000000         0.000000       0.000000                            0.000000                          0.000000                               0.000000                           0.000000                    0.000000            0.000000                            1.000000                             1.000000\n",
       "25%            58.000000        44.000000      40.000000                           15.000000                         17.000000                               0.000000                           0.000000                   43.000000           35.000000                            3.000000                             4.000000\n",
       "50%           125.000000        98.000000      89.000000                           39.000000                         40.000000                               2.000000                           5.000000                  100.000000           80.000000                            6.000000                             7.000000\n",
       "75%           238.000000       190.000000     170.000000                           80.000000                         90.000000                              12.000000                          20.000000                  210.000000          160.000000                           12.000000                            14.000000\n",
       "max         16417.000000     12170.000000   12170.000000                         2442.000000                       2750.000000                             746.000000                         920.000000                 4500.000000         4150.000000                          750.000000                           950.000000"
      ]
     },
     "execution_count": 27,
     "metadata": {},
     "output_type": "execute_result"
    }
   ],
   "source": [
    "df_pd.describe()\n"
   ]
  },
  {
   "cell_type": "markdown",
   "id": "8975771f-764d-47a7-9978-4b4b9b9f649a",
   "metadata": {},
   "source": [
    "### Step 3: Analytics"
   ]
  },
  {
   "cell_type": "code",
   "execution_count": 37,
   "id": "d597945d-c50a-45f6-9b89-77e4987bedfb",
   "metadata": {},
   "outputs": [
    {
     "name": "stdout",
     "output_type": "stream",
     "text": [
      "+------------+-------------+------------------+--------------+\n",
      "|village_name|net_sown_area|net_irrigated_area|irrigation_pct|\n",
      "+------------+-------------+------------------+--------------+\n",
      "|KANDHNI     |210          |210               |100.0         |\n",
      "|KALWARI     |107          |105               |98.13         |\n",
      "|RAMALA      |180          |180               |100.0         |\n",
      "|RASULPUR    |33           |31                |93.94         |\n",
      "|MADDHUPUR   |118          |118               |100.0         |\n",
      "|SONIK       |25           |25                |100.0         |\n",
      "|SIHAVALI    |323          |323               |100.0         |\n",
      "|KAMALAWAD   |60           |60                |100.0         |\n",
      "|KHRGU PURA  |150          |150               |100.0         |\n",
      "|CHHAWIL PUR |175          |175               |100.0         |\n",
      "+------------+-------------+------------------+--------------+\n",
      "only showing top 10 rows\n"
     ]
    }
   ],
   "source": [
    "from pyspark.sql.functions import round, col\n",
    "\n",
    "df_clean = df_clean.withColumn(\n",
    "    \"irrigation_pct\",\n",
    "    round((col(\"net_irrigated_area\") / col(\"net_sown_area\")) * 100, 2)\n",
    ")\n",
    "\n",
    "# Check top 10 villages\n",
    "df_clean.select(\"village_name\", \"net_sown_area\", \"net_irrigated_area\", \"irrigation_pct\").show(10, truncate=False)\n"
   ]
  },
  {
   "cell_type": "code",
   "execution_count": 38,
   "id": "e89247ff-0b3e-4837-b032-689dd3803451",
   "metadata": {},
   "outputs": [
    {
     "name": "stdout",
     "output_type": "stream",
     "text": [
      "+------------+-----------------------------------+---------------+\n",
      "|village_name|avg_ground_water_level_post_monsoon|water_stress   |\n",
      "+------------+-----------------------------------+---------------+\n",
      "|KANDHNI     |5                                  |High Stress    |\n",
      "|KALWARI     |3                                  |High Stress    |\n",
      "|RAMALA      |15                                 |Moderate Stress|\n",
      "|RASULPUR    |5                                  |High Stress    |\n",
      "|MADDHUPUR   |4                                  |High Stress    |\n",
      "|SONIK       |4                                  |High Stress    |\n",
      "|SIHAVALI    |12                                 |Moderate Stress|\n",
      "|KAMALAWAD   |12                                 |Moderate Stress|\n",
      "|KHRGU PURA  |11                                 |Moderate Stress|\n",
      "|CHHAWIL PUR |10                                 |Moderate Stress|\n",
      "+------------+-----------------------------------+---------------+\n",
      "only showing top 10 rows\n"
     ]
    }
   ],
   "source": [
    "from pyspark.sql.functions import when\n",
    "\n",
    "df_clean = df_clean.withColumn(\n",
    "    \"water_stress\",\n",
    "    when(col(\"avg_ground_water_level_post_monsoon\") > 15, \"Low Stress\") \\\n",
    "    .when((col(\"avg_ground_water_level_post_monsoon\") > 7) & (col(\"avg_ground_water_level_post_monsoon\") <= 15), \"Moderate Stress\") \\\n",
    "    .otherwise(\"High Stress\")\n",
    ")\n",
    "\n",
    "# Check top 10 villages\n",
    "df_clean.select(\"village_name\", \"avg_ground_water_level_post_monsoon\", \"water_stress\").show(10, truncate=False)\n"
   ]
  },
  {
   "cell_type": "code",
   "execution_count": 39,
   "id": "090ca683-7bcf-4c1c-ac66-8686202e2606",
   "metadata": {},
   "outputs": [
    {
     "name": "stdout",
     "output_type": "stream",
     "text": [
      "+-------------+------------------+\n",
      "|district_name|avg_irrigation_pct|\n",
      "+-------------+------------------+\n",
      "|ALIGARH      |100.0             |\n",
      "|AZAMGARH     |97.78             |\n",
      "|BAGHPAT      |100.0             |\n",
      "|ETAWAH       |100.0             |\n",
      "|JAUNPUR      |89.4              |\n",
      "|KANNAUJ      |99.93             |\n",
      "|MAHARAJ GANJ |95.02             |\n",
      "|SHAHJAHANPUR |100.0             |\n",
      "|UNNAO        |100.0             |\n",
      "+-------------+------------------+\n",
      "\n"
     ]
    }
   ],
   "source": [
    "from pyspark.sql.functions import avg, round\n",
    "\n",
    "avg_irrigation = df_clean.groupBy(\"district_name\") \\\n",
    "    .agg(round(avg(\"irrigation_pct\"), 2).alias(\"avg_irrigation_pct\")) \\\n",
    "    .orderBy(\"district_name\")\n",
    "\n",
    "avg_irrigation.show(truncate=False)\n"
   ]
  },
  {
   "cell_type": "code",
   "execution_count": 40,
   "id": "5e8fa006-17ce-43ee-bcdb-05e7e94a82ab",
   "metadata": {},
   "outputs": [
    {
     "name": "stdout",
     "output_type": "stream",
     "text": [
      "+-------------+---------------+-------------+\n",
      "|district_name|water_stress   |village_count|\n",
      "+-------------+---------------+-------------+\n",
      "|ALIGARH      |Moderate Stress|15           |\n",
      "|ALIGARH      |High Stress    |1            |\n",
      "|AZAMGARH     |High Stress    |4            |\n",
      "|BAGHPAT      |Moderate Stress|1            |\n",
      "|ETAWAH       |High Stress    |1            |\n",
      "|JAUNPUR      |High Stress    |9            |\n",
      "|JAUNPUR      |Moderate Stress|1            |\n",
      "|KANNAUJ      |Low Stress     |12           |\n",
      "|MAHARAJ GANJ |High Stress    |28           |\n",
      "|SHAHJAHANPUR |High Stress    |4            |\n",
      "|UNNAO        |High Stress    |1            |\n",
      "+-------------+---------------+-------------+\n",
      "\n"
     ]
    }
   ],
   "source": [
    "from pyspark.sql.functions import count\n",
    "\n",
    "water_stress_count = df_clean.groupBy(\"district_name\", \"water_stress\") \\\n",
    "    .agg(count(\"village_name\").alias(\"village_count\")) \\\n",
    "    .orderBy(\"district_name\")\n",
    "\n",
    "water_stress_count.show(truncate=False)\n"
   ]
  },
  {
   "cell_type": "code",
   "execution_count": 42,
   "id": "5a70fef7-cc1b-44ae-9c7a-ee1952c3f9c0",
   "metadata": {},
   "outputs": [
    {
     "name": "stdout",
     "output_type": "stream",
     "text": [
      "+-----------------+------------------------+\n",
      "|block_tehsil_name|total_net_irrigated_area|\n",
      "+-----------------+------------------------+\n",
      "|BADHAPURA        |210.0                   |\n",
      "|BICHHIYA         |25.0                    |\n",
      "|BRIDGEMANGANJ    |158.0                   |\n",
      "|CHHAPRAULI       |180.0                   |\n",
      "|DOBHI            |120.0                   |\n",
      "|GANGIRI          |4750.0                  |\n",
      "|GHUGHALI         |465.0                   |\n",
      "|HASERAN          |1653.0                  |\n",
      "|MACHCHLI SHAHAR  |143.0                   |\n",
      "|MIRZA PUR        |460.0                   |\n",
      "|MUFTI GANJ       |214.0                   |\n",
      "|NIGOHI           |252.0                   |\n",
      "|PARTAWAL         |2791.0                  |\n",
      "|SISWA            |388.0                   |\n",
      "|SUITHA KALA      |957.0                   |\n",
      "+-----------------+------------------------+\n",
      "\n"
     ]
    }
   ],
   "source": [
    "from pyspark.sql.functions import col, sum as _sum\n",
    "\n",
    "# 1. Safely cast the column to double\n",
    "df_clean = df_clean.withColumn(\n",
    "    \"net_irrigated_area\",\n",
    "    col(\"net_irrigated_area\").cast(\"double\")\n",
    ")\n",
    "\n",
    "# 2. Now aggregate total irrigated area per block/tehsil\n",
    "total_irrigation_block = df_clean.groupBy(\"block_tehsil_name\") \\\n",
    "    .agg(_sum(\"net_irrigated_area\").alias(\"total_net_irrigated_area\")) \\\n",
    "    .orderBy(\"block_tehsil_name\")\n",
    "\n",
    "total_irrigation_block.show(truncate=False)\n"
   ]
  },
  {
   "cell_type": "markdown",
   "id": "75b42136-f865-4d20-9c6b-f0574ec67761",
   "metadata": {},
   "source": [
    "### Step 4: Visualization\n"
   ]
  },
  {
   "cell_type": "code",
   "execution_count": 43,
   "id": "a729e365-03ce-4783-8d7d-f8a2e60dc191",
   "metadata": {},
   "outputs": [
    {
     "name": "stderr",
     "output_type": "stream",
     "text": [
      "C:\\Users\\vinay\\AppData\\Local\\Temp\\ipykernel_5804\\4078150413.py:11: FutureWarning: \n",
      "\n",
      "Passing `palette` without assigning `hue` is deprecated and will be removed in v0.14.0. Assign the `x` variable to `hue` and set `legend=False` for the same effect.\n",
      "\n",
      "  sns.barplot(x=\"district_name\", y=\"avg_irrigation_pct\", data=avg_irrigation_pd, palette=\"Blues_d\")\n"
     ]
    },
    {
     "data": {
      "image/png": "[encoded data removed]",
      "text/plain": [
       "<Figure size 1000x600 with 1 Axes>"
      ]
     },
     "metadata": {},
     "output_type": "display_data"
    }
   ],
   "source": [
    "import matplotlib.pyplot as plt\n",
    "import seaborn as sns\n",
    "\n",
    "# Convert PySpark aggregation to Pandas if not done already\n",
    "avg_irrigation_pd = df_clean.groupBy(\"district_name\") \\\n",
    "    .agg(round(avg(\"irrigation_pct\"), 2).alias(\"avg_irrigation_pct\")) \\\n",
    "    .orderBy(\"district_name\").toPandas()\n",
    "\n",
    "# Plot\n",
    "plt.figure(figsize=(10,6))\n",
    "sns.barplot(x=\"district_name\", y=\"avg_irrigation_pct\", data=avg_irrigation_pd, palette=\"Blues_d\")\n",
    "plt.xticks(rotation=45, ha='right')\n",
    "plt.title(\"Average Irrigation % per District\")\n",
    "plt.ylabel(\"Average Irrigation %\")\n",
    "plt.xlabel(\"District\")\n",
    "plt.tight_layout()\n",
    "plt.show()"
   ]
  },
  {
   "cell_type": "markdown",
   "id": "f264ed21-2abf-480e-a92b-fc1468abd53b",
   "metadata": {},
   "source": [
    "### The above plot give summary of Which districts have higher irrigation"
   ]
  },
  {
   "cell_type": "code",
   "execution_count": 44,
   "id": "58e1122f-3685-48ea-85e1-973e8fe32914",
   "metadata": {},
   "outputs": [
    {
     "data": {
      "image/png": "[encoded data removed]",
      "text/plain": [
       "<Figure size 1000x600 with 1 Axes>"
      ]
     },
     "metadata": {},
     "output_type": "display_data"
    }
   ],
   "source": [
    "# Prepare data\n",
    "water_stress_pd = df_clean.groupBy(\"district_name\", \"water_stress\") \\\n",
    "    .count().toPandas()\n",
    "\n",
    "# Pivot for stacked bar\n",
    "water_stress_pivot = water_stress_pd.pivot(index=\"district_name\", columns=\"water_stress\", values=\"count\").fillna(0)\n",
    "\n",
    "# Plot\n",
    "water_stress_pivot.plot(kind=\"bar\", stacked=True, figsize=(10,6), colormap=\"coolwarm\")\n",
    "plt.title(\"Number of Villages by Water Stress per District\")\n",
    "plt.ylabel(\"Number of Villages\")\n",
    "plt.xlabel(\"District\")\n",
    "plt.xticks(rotation=45, ha='right')\n",
    "plt.tight_layout()\n",
    "plt.show()\n"
   ]
  },
  {
   "cell_type": "markdown",
   "id": "15e64bf7-9b68-4394-ad6a-ce32116ff462",
   "metadata": {},
   "source": [
    "### The above plot gives info of Where are villages under water stress"
   ]
  },
  {
   "cell_type": "code",
   "execution_count": 45,
   "id": "ff3242b1-d951-4bf9-9760-ba6e4a38c09c",
   "metadata": {},
   "outputs": [
    {
     "name": "stderr",
     "output_type": "stream",
     "text": [
      "C:\\Users\\vinay\\AppData\\Local\\Temp\\ipykernel_5804\\1359883026.py:7: FutureWarning: \n",
      "\n",
      "Passing `palette` without assigning `hue` is deprecated and will be removed in v0.14.0. Assign the `x` variable to `hue` and set `legend=False` for the same effect.\n",
      "\n",
      "  sns.barplot(x=\"block_tehsil_name\", y=\"total_net_irrigated_area\", data=total_irrigation_block_pd, palette=\"Greens_d\")\n"
     ]
    },
    {
     "data": {
      "image/png": "[encoded data removed]",
      "text/plain": [
       "<Figure size 1200x600 with 1 Axes>"
      ]
     },
     "metadata": {},
     "output_type": "display_data"
    }
   ],
   "source": [
    "total_irrigation_block_pd = df_clean.groupBy(\"block_tehsil_name\") \\\n",
    "    .agg(_sum(\"net_irrigated_area\").alias(\"total_net_irrigated_area\")) \\\n",
    "    .orderBy(\"total_net_irrigated_area\", ascending=False).toPandas()\n",
    "\n",
    "# Plot\n",
    "plt.figure(figsize=(12,6))\n",
    "sns.barplot(x=\"block_tehsil_name\", y=\"total_net_irrigated_area\", data=total_irrigation_block_pd, palette=\"Greens_d\")\n",
    "plt.xticks(rotation=90)\n",
    "plt.title(\"Total Net Irrigated Area per Block/Tehsil\")\n",
    "plt.ylabel(\"Total Net Irrigated Area\")\n",
    "plt.xlabel(\"Block/Tehsil\")\n",
    "plt.tight_layout()\n",
    "plt.show()\n"
   ]
  },
  {
   "cell_type": "markdown",
   "id": "ee844e5d-eff5-45f1-ac82-bacc0c2c30b1",
   "metadata": {},
   "source": [
    "### The above plot talks about Which blocks/tehsils have the most irrigated area"
   ]
  },
  {
   "cell_type": "code",
   "execution_count": 48,
   "id": "9947595e-3258-4a6b-a5da-29f9820ff459",
   "metadata": {},
   "outputs": [
    {
     "data": {
      "image/png": "[encoded data removed]",
      "text/plain": [
       "<Figure size 600x600 with 1 Axes>"
      ]
     },
     "metadata": {},
     "output_type": "display_data"
    }
   ],
   "source": [
    "water_stress_overall = df_clean.groupBy(\"water_stress\").count().toPandas()\n",
    "\n",
    "plt.figure(figsize=(6,6))\n",
    "plt.pie(water_stress_overall['count'], labels=water_stress_overall['water_stress'], autopct='%1.1f%%', colors=sns.color_palette(\"coolwarm\"))\n",
    "plt.title(\"Overall Water Stress Distribution\")\n",
    "plt.show()\n"
   ]
  },
  {
   "cell_type": "code",
   "execution_count": 53,
   "id": "377a2de3-c453-4590-a7fa-9d3a69f264d5",
   "metadata": {},
   "outputs": [
    {
     "data": {
      "application/vnd.plotly.v1+json": {
       "config": {
        "plotlyServerURL": "https://plot.ly"
       },
       "data": [
        {
         "branchvalues": "total",
         "customdata": {
          "_inputArray": [
           {
            "0": 4750
           },
           {
            "0": 3802
           },
           {
            "0": 1653
           },
           {
            "0": 1434
           },
           {
            "0": 460
           },
           {
            "0": 252
           },
           {
            "0": 210
           },
           {
            "0": 180
           },
           {
            "0": 25
           }
          ],
          "bdata": "AAAAAACOskAAAAAAALStQAAAAAAA1JlAAAAAAABolkAAAAAAAMB8QAAAAAAAgG9AAAAAAABAakAAAAAAAIBmQAAAAAAAADlA",
          "dtype": "f8",
          "shape": "9, 1"
         },
         "domain": {
          "x": [
           0,
           1
          ],
          "y": [
           0,
           1
          ]
         },
         "hovertemplate": "labels=%{label}<br>total_net_irrigated_area_sum=%{value}<br>parent=%{parent}<br>id=%{id}<br>total_net_irrigated_area=%{color}<extra></extra>",
         "ids": [
          "ALIGARH",
          "MAHARAJ GANJ",
          "KANNAUJ",
          "JAUNPUR",
          "AZAMGARH",
          "SHAHJAHANPUR",
          "ETAWAH",
          "BAGHPAT",
          "UNNAO"
         ],
         "labels": [
          "ALIGARH",
          "MAHARAJ GANJ",
          "KANNAUJ",
          "JAUNPUR",
          "AZAMGARH",
          "SHAHJAHANPUR",
          "ETAWAH",
          "BAGHPAT",
          "UNNAO"
         ],
         "marker": {
          "coloraxis": "coloraxis",
          "colors": {
           "_inputArray": {
            "0": 4750,
            "1": 3802,
            "2": 1653,
            "3": 1434,
            "4": 460,
            "5": 252,
            "6": 210,
            "7": 180,
            "8": 25,
            "bdata": "AAAAAACOskAAAAAAALStQAAAAAAA1JlAAAAAAABolkAAAAAAAMB8QAAAAAAAgG9AAAAAAABAakAAAAAAAIBmQAAAAAAAADlA",
            "dtype": "f8",
            "shape": "9"
           },
           "bdata": "AAAAAACOskAAAAAAALStQAAAAAAA1JlAAAAAAABolkAAAAAAAMB8QAAAAAAAgG9AAAAAAABAakAAAAAAAIBmQAAAAAAAADlA",
           "dtype": "f8"
          }
         },
         "name": "",
         "parents": [
          "",
          "",
          "",
          "",
          "",
          "",
          "",
          "",
          ""
         ],
         "type": "treemap",
         "values": {
          "_inputArray": {
           "0": 4750,
           "1": 3802,
           "2": 1653,
           "3": 1434,
           "4": 460,
           "5": 252,
           "6": 210,
           "7": 180,
           "8": 25,
           "bdata": "AAAAAACOskAAAAAAALStQAAAAAAA1JlAAAAAAABolkAAAAAAAMB8QAAAAAAAgG9AAAAAAABAakAAAAAAAIBmQAAAAAAAADlA",
           "dtype": "f8",
           "shape": "9"
          },
          "bdata": "AAAAAACOskAAAAAAALStQAAAAAAA1JlAAAAAAABolkAAAAAAAMB8QAAAAAAAgG9AAAAAAABAakAAAAAAAIBmQAAAAAAAADlA",
          "dtype": "f8"
         }
        }
       ],
       "layout": {
        "autosize": true,
        "coloraxis": {
         "colorbar": {
          "title": {
           "text": "total_net_irrigated_area"
          }
         },
         "colorscale": [
          [
           0,
           "rgb(247,252,245)"
          ],
          [
           0.125,
           "rgb(229,245,224)"
          ],
          [
           0.25,
           "rgb(199,233,192)"
          ],
          [
           0.375,
           "rgb(161,217,155)"
          ],
          [
           0.5,
           "rgb(116,196,118)"
          ],
          [
           0.625,
           "rgb(65,171,93)"
          ],
          [
           0.75,
           "rgb(35,139,69)"
          ],
          [
           0.875,
           "rgb(0,109,44)"
          ],
          [
           1,
           "rgb(0,68,27)"
          ]
         ]
        },
        "legend": {
         "tracegroupgap": 0
        },
        "template": {
         "data": {
          "bar": [
           {
            "error_x": {
             "color": "#2a3f5f"
            },
            "error_y": {
             "color": "#2a3f5f"
            },
            "marker": {
             "line": {
              "color": "#E5ECF6",
              "width": 0.5
             },
             "pattern": {
              "fillmode": "overlay",
              "size": 10,
              "solidity": 0.2
             }
            },
            "type": "bar"
           }
          ],
          "barpolar": [
           {
            "marker": {
             "line": {
              "color": "#E5ECF6",
              "width": 0.5
             },
             "pattern": {
              "fillmode": "overlay",
              "size": 10,
              "solidity": 0.2
             }
            },
            "type": "barpolar"
           }
          ],
          "carpet": [
           {
            "aaxis": {
             "endlinecolor": "#2a3f5f",
             "gridcolor": "white",
             "linecolor": "white",
             "minorgridcolor": "white",
             "startlinecolor": "#2a3f5f"
            },
            "baxis": {
             "endlinecolor": "#2a3f5f",
             "gridcolor": "white",
             "linecolor": "white",
             "minorgridcolor": "white",
             "startlinecolor": "#2a3f5f"
            },
            "type": "carpet"
           }
          ],
          "choropleth": [
           {
            "colorbar": {
             "outlinewidth": 0,
             "ticks": ""
            },
            "type": "choropleth"
           }
          ],
          "contour": [
           {
            "colorbar": {
             "outlinewidth": 0,
             "ticks": ""
            },
            "colorscale": [
             [
              0,
              "#0d0887"
             ],
             [
              0.1111111111111111,
              "#46039f"
             ],
             [
              0.2222222222222222,
              "#7201a8"
             ],
             [
              0.3333333333333333,
              "#9c179e"
             ],
             [
              0.4444444444444444,
              "#bd3786"
             ],
             [
              0.5555555555555556,
              "#d8576b"
             ],
             [
              0.6666666666666666,
              "#ed7953"
             ],
             [
              0.7777777777777778,
              "#fb9f3a"
             ],
             [
              0.8888888888888888,
              "#fdca26"
             ],
             [
              1,
              "#f0f921"
             ]
            ],
            "type": "contour"
           }
          ],
          "contourcarpet": [
           {
            "colorbar": {
             "outlinewidth": 0,
             "ticks": ""
            },
            "type": "contourcarpet"
           }
          ],
          "heatmap": [
           {
            "colorbar": {
             "outlinewidth": 0,
             "ticks": ""
            },
            "colorscale": [
             [
              0,
              "#0d0887"
             ],
             [
              0.1111111111111111,
              "#46039f"
             ],
             [
              0.2222222222222222,
              "#7201a8"
             ],
             [
              0.3333333333333333,
              "#9c179e"
             ],
             [
              0.4444444444444444,
              "#bd3786"
             ],
             [
              0.5555555555555556,
              "#d8576b"
             ],
             [
              0.6666666666666666,
              "#ed7953"
             ],
             [
              0.7777777777777778,
              "#fb9f3a"
             ],
             [
              0.8888888888888888,
              "#fdca26"
             ],
             [
              1,
              "#f0f921"
             ]
            ],
            "type": "heatmap"
           }
          ],
          "histogram": [
           {
            "marker": {
             "pattern": {
              "fillmode": "overlay",
              "size": 10,
              "solidity": 0.2
             }
            },
            "type": "histogram"
           }
          ],
          "histogram2d": [
           {
            "colorbar": {
             "outlinewidth": 0,
             "ticks": ""
            },
            "colorscale": [
             [
              0,
              "#0d0887"
             ],
             [
              0.1111111111111111,
              "#46039f"
             ],
             [
              0.2222222222222222,
              "#7201a8"
             ],
             [
              0.3333333333333333,
              "#9c179e"
             ],
             [
              0.4444444444444444,
              "#bd3786"
             ],
             [
              0.5555555555555556,
              "#d8576b"
             ],
             [
              0.6666666666666666,
              "#ed7953"
             ],
             [
              0.7777777777777778,
              "#fb9f3a"
             ],
             [
              0.8888888888888888,
              "#fdca26"
             ],
             [
              1,
              "#f0f921"
             ]
            ],
            "type": "histogram2d"
           }
          ],
          "histogram2dcontour": [
           {
            "colorbar": {
             "outlinewidth": 0,
             "ticks": ""
            },
            "colorscale": [
             [
              0,
              "#0d0887"
             ],
             [
              0.1111111111111111,
              "#46039f"
             ],
             [
              0.2222222222222222,
              "#7201a8"
             ],
             [
              0.3333333333333333,
              "#9c179e"
             ],
             [
              0.4444444444444444,
              "#bd3786"
             ],
             [
              0.5555555555555556,
              "#d8576b"
             ],
             [
              0.6666666666666666,
              "#ed7953"
             ],
             [
              0.7777777777777778,
              "#fb9f3a"
             ],
             [
              0.8888888888888888,
              "#fdca26"
             ],
             [
              1,
              "#f0f921"
             ]
            ],
            "type": "histogram2dcontour"
           }
          ],
          "mesh3d": [
           {
            "colorbar": {
             "outlinewidth": 0,
             "ticks": ""
            },
            "type": "mesh3d"
           }
          ],
          "parcoords": [
           {
            "line": {
             "colorbar": {
              "outlinewidth": 0,
              "ticks": ""
             }
            },
            "type": "parcoords"
           }
          ],
          "pie": [
           {
            "automargin": true,
            "type": "pie"
           }
          ],
          "scatter": [
           {
            "fillpattern": {
             "fillmode": "overlay",
             "size": 10,
             "solidity": 0.2
            },
            "type": "scatter"
           }
          ],
          "scatter3d": [
           {
            "line": {
             "colorbar": {
              "outlinewidth": 0,
              "ticks": ""
             }
            },
            "marker": {
             "colorbar": {
              "outlinewidth": 0,
              "ticks": ""
             }
            },
            "type": "scatter3d"
           }
          ],
          "scattercarpet": [
           {
            "marker": {
             "colorbar": {
              "outlinewidth": 0,
              "ticks": ""
             }
            },
            "type": "scattercarpet"
           }
          ],
          "scattergeo": [
           {
            "marker": {
             "colorbar": {
              "outlinewidth": 0,
              "ticks": ""
             }
            },
            "type": "scattergeo"
           }
          ],
          "scattergl": [
           {
            "marker": {
             "colorbar": {
              "outlinewidth": 0,
              "ticks": ""
             }
            },
            "type": "scattergl"
           }
          ],
          "scattermap": [
           {
            "marker": {
             "colorbar": {
              "outlinewidth": 0,
              "ticks": ""
             }
            },
            "type": "scattermap"
           }
          ],
          "scattermapbox": [
           {
            "marker": {
             "colorbar": {
              "outlinewidth": 0,
              "ticks": ""
             }
            },
            "type": "scattermapbox"
           }
          ],
          "scatterpolar": [
           {
            "marker": {
             "colorbar": {
              "outlinewidth": 0,
              "ticks": ""
             }
            },
            "type": "scatterpolar"
           }
          ],
          "scatterpolargl": [
           {
            "marker": {
             "colorbar": {
              "outlinewidth": 0,
              "ticks": ""
             }
            },
            "type": "scatterpolargl"
           }
          ],
          "scatterternary": [
           {
            "marker": {
             "colorbar": {
              "outlinewidth": 0,
              "ticks": ""
             }
            },
            "type": "scatterternary"
           }
          ],
          "surface": [
           {
            "colorbar": {
             "outlinewidth": 0,
             "ticks": ""
            },
            "colorscale": [
             [
              0,
              "#0d0887"
             ],
             [
              0.1111111111111111,
              "#46039f"
             ],
             [
              0.2222222222222222,
              "#7201a8"
             ],
             [
              0.3333333333333333,
              "#9c179e"
             ],
             [
              0.4444444444444444,
              "#bd3786"
             ],
             [
              0.5555555555555556,
              "#d8576b"
             ],
             [
              0.6666666666666666,
              "#ed7953"
             ],
             [
              0.7777777777777778,
              "#fb9f3a"
             ],
             [
              0.8888888888888888,
              "#fdca26"
             ],
             [
              1,
              "#f0f921"
             ]
            ],
            "type": "surface"
           }
          ],
          "table": [
           {
            "cells": {
             "fill": {
              "color": "#EBF0F8"
             },
             "line": {
              "color": "white"
             }
            },
            "header": {
             "fill": {
              "color": "#C8D4E3"
             },
             "line": {
              "color": "white"
             }
            },
            "type": "table"
           }
          ]
         },
         "layout": {
          "annotationdefaults": {
           "arrowcolor": "#2a3f5f",
           "arrowhead": 0,
           "arrowwidth": 1
          },
          "autotypenumbers": "strict",
          "coloraxis": {
           "colorbar": {
            "outlinewidth": 0,
            "ticks": ""
           }
          },
          "colorscale": {
           "diverging": [
            [
             0,
             "#8e0152"
            ],
            [
             0.1,
             "#c51b7d"
            ],
            [
             0.2,
             "#de77ae"
            ],
            [
             0.3,
             "#f1b6da"
            ],
            [
             0.4,
             "#fde0ef"
            ],
            [
             0.5,
             "#f7f7f7"
            ],
            [
             0.6,
             "#e6f5d0"
            ],
            [
             0.7,
             "#b8e186"
            ],
            [
             0.8,
             "#7fbc41"
            ],
            [
             0.9,
             "#4d9221"
            ],
            [
             1,
             "#276419"
            ]
           ],
           "sequential": [
            [
             0,
             "#0d0887"
            ],
            [
             0.1111111111111111,
             "#46039f"
            ],
            [
             0.2222222222222222,
             "#7201a8"
            ],
            [
             0.3333333333333333,
             "#9c179e"
            ],
            [
             0.4444444444444444,
             "#bd3786"
            ],
            [
             0.5555555555555556,
             "#d8576b"
            ],
            [
             0.6666666666666666,
             "#ed7953"
            ],
            [
             0.7777777777777778,
             "#fb9f3a"
            ],
            [
             0.8888888888888888,
             "#fdca26"
            ],
            [
             1,
             "#f0f921"
            ]
           ],
           "sequentialminus": [
            [
             0,
             "#0d0887"
            ],
            [
             0.1111111111111111,
             "#46039f"
            ],
            [
             0.2222222222222222,
             "#7201a8"
            ],
            [
             0.3333333333333333,
             "#9c179e"
            ],
            [
             0.4444444444444444,
             "#bd3786"
            ],
            [
             0.5555555555555556,
             "#d8576b"
            ],
            [
             0.6666666666666666,
             "#ed7953"
            ],
            [
             0.7777777777777778,
             "#fb9f3a"
            ],
            [
             0.8888888888888888,
             "#fdca26"
            ],
            [
             1,
             "#f0f921"
            ]
           ]
          },
          "colorway": [
           "#636efa",
           "#EF553B",
           "#00cc96",
           "#ab63fa",
           "#FFA15A",
           "#19d3f3",
           "#FF6692",
           "#B6E880",
           "#FF97FF",
           "#FECB52"
          ],
          "font": {
           "color": "#2a3f5f"
          },
          "geo": {
           "bgcolor": "white",
           "lakecolor": "white",
           "landcolor": "#E5ECF6",
           "showlakes": true,
           "showland": true,
           "subunitcolor": "white"
          },
          "hoverlabel": {
           "align": "left"
          },
          "hovermode": "closest",
          "mapbox": {
           "style": "light"
          },
          "paper_bgcolor": "white",
          "plot_bgcolor": "#E5ECF6",
          "polar": {
           "angularaxis": {
            "gridcolor": "white",
            "linecolor": "white",
            "ticks": ""
           },
           "bgcolor": "#E5ECF6",
           "radialaxis": {
            "gridcolor": "white",
            "linecolor": "white",
            "ticks": ""
           }
          },
          "scene": {
           "xaxis": {
            "backgroundcolor": "#E5ECF6",
            "gridcolor": "white",
            "gridwidth": 2,
            "linecolor": "white",
            "showbackground": true,
            "ticks": "",
            "zerolinecolor": "white"
           },
           "yaxis": {
            "backgroundcolor": "#E5ECF6",
            "gridcolor": "white",
            "gridwidth": 2,
            "linecolor": "white",
            "showbackground": true,
            "ticks": "",
            "zerolinecolor": "white"
           },
           "zaxis": {
            "backgroundcolor": "#E5ECF6",
            "gridcolor": "white",
            "gridwidth": 2,
            "linecolor": "white",
            "showbackground": true,
            "ticks": "",
            "zerolinecolor": "white"
           }
          },
          "shapedefaults": {
           "line": {
            "color": "#2a3f5f"
           }
          },
          "ternary": {
           "aaxis": {
            "gridcolor": "white",
            "linecolor": "white",
            "ticks": ""
           },
           "baxis": {
            "gridcolor": "white",
            "linecolor": "white",
            "ticks": ""
           },
           "bgcolor": "#E5ECF6",
           "caxis": {
            "gridcolor": "white",
            "linecolor": "white",
            "ticks": ""
           }
          },
          "title": {
           "x": 0.05
          },
          "xaxis": {
           "automargin": true,
           "gridcolor": "white",
           "linecolor": "white",
           "ticks": "",
           "title": {
            "standoff": 15
           },
           "zerolinecolor": "white",
           "zerolinewidth": 2
          },
          "yaxis": {
           "automargin": true,
           "gridcolor": "white",
           "linecolor": "white",
           "ticks": "",
           "title": {
            "standoff": 15
           },
           "zerolinecolor": "white",
           "zerolinewidth": 2
          }
         }
        },
        "title": {
         "text": "Total Net Irrigated Area per District"
        }
       }
      },
      "image/png": "[encoded data removed]"
     },
     "metadata": {},
     "output_type": "display_data"
    }
   ],
   "source": [
    "import plotly.express as px\n",
    "\n",
    "# Aggregate total net irrigated area per district\n",
    "district_irrigation = df_clean.groupBy(\"district_name\") \\\n",
    "    .agg(_sum(\"net_irrigated_area\").alias(\"total_net_irrigated_area\")) \\\n",
    "    .orderBy(\"total_net_irrigated_area\", ascending=False).toPandas()\n",
    "\n",
    "# Treemap\n",
    "fig = px.treemap(\n",
    "    district_irrigation,\n",
    "    path=['district_name'],  # hierarchy (just districts here)\n",
    "    values='total_net_irrigated_area',\n",
    "    color='total_net_irrigated_area',\n",
    "    color_continuous_scale='Greens',\n",
    "    title='Total Net Irrigated Area per District'\n",
    ")\n",
    "fig.show()\n"
   ]
  },
  {
   "cell_type": "markdown",
   "id": "781eadd0-8fd9-4964-b066-9cd96f85cafa",
   "metadata": {},
   "source": [
    "## CONCLUSION\n",
    "\n",
    "The Minor Irrigation Census Analysis using Apache Spark transcends traditional data analysis by building an integrated data intelligence platform for irrigation management and water resource monitoring. It effectively demonstrates how cutting-edge distributed technologies can address critical challenges in agriculture and groundwater conservation, enabling data-backed decision-making.\n",
    "\n",
    "This project is a testament to the power of technology in social and environmental development, providing not only analytical insights but also a blueprint for sustainable water governance. By leveraging big data to illuminate patterns of irrigation efficiency and groundwater stress, it contributes meaningfully to the vision of data-driven agricultural sustainability.\n",
    "\n",
    "More than a technical milestone, this project serves as a catalyst for informed resource planning and evidence-based policy action, paving the way toward a more efficient, transparent, and resilient irrigation ecosystem."
   ]
  },
  {
   "cell_type": "code",
   "execution_count": null,
   "id": "d61cf124-1590-4b9e-8932-ebd52e63c15d",
   "metadata": {},
   "outputs": [],
   "source": []
  }
 ],
 "metadata": {
  "kernelspec": {
   "display_name": "Python (Pyk)",
   "language": "python",
   "name": "pyspark-venv"
  },
  "language_info": {
   "codemirror_mode": {
    "name": "ipython",
    "version": 3
   },
   "file_extension": ".py",
   "mimetype": "text/x-python",
   "name": "python",
   "nbconvert_exporter": "python",
   "pygments_lexer": "ipython3",
   "version": "3.11.0"
  }
 },
 "nbformat": 4,
 "nbformat_minor": 5
}
